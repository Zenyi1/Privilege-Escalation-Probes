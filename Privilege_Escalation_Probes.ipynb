{
  "nbformat": 4,
  "nbformat_minor": 0,
  "metadata": {
    "colab": {
      "provenance": [],
      "gpuType": "T4"
    },
    "kernelspec": {
      "name": "python3",
      "display_name": "Python 3"
    },
    "language_info": {
      "name": "python"
    },
    "accelerator": "GPU"
  },
  "cells": [
    {
      "cell_type": "code",
      "execution_count": 37,
      "metadata": {
        "colab": {
          "base_uri": "https://localhost:8080/",
          "height": 1000
        },
        "collapsed": true,
        "id": "4kanOWQJTcSN",
        "outputId": "ba03e3fe-df87-4eb6-897a-85ffac9c8b89"
      },
      "outputs": [
        {
          "output_type": "stream",
          "name": "stdout",
          "text": [
            "Requirement already satisfied: transformers in /usr/local/lib/python3.12/dist-packages (4.55.4)\n",
            "Requirement already satisfied: torch in /usr/local/lib/python3.12/dist-packages (2.8.0+cu126)\n",
            "Requirement already satisfied: transformer-lens in /usr/local/lib/python3.12/dist-packages (2.16.1)\n",
            "Requirement already satisfied: datasets in /usr/local/lib/python3.12/dist-packages (4.0.0)\n",
            "Requirement already satisfied: scikit-learn in /usr/local/lib/python3.12/dist-packages (1.6.1)\n",
            "Requirement already satisfied: filelock in /usr/local/lib/python3.12/dist-packages (from transformers) (3.19.1)\n",
            "Requirement already satisfied: huggingface-hub<1.0,>=0.34.0 in /usr/local/lib/python3.12/dist-packages (from transformers) (0.34.4)\n",
            "Requirement already satisfied: numpy>=1.17 in /usr/local/lib/python3.12/dist-packages (from transformers) (1.26.4)\n",
            "Requirement already satisfied: packaging>=20.0 in /usr/local/lib/python3.12/dist-packages (from transformers) (25.0)\n",
            "Requirement already satisfied: pyyaml>=5.1 in /usr/local/lib/python3.12/dist-packages (from transformers) (6.0.2)\n",
            "Requirement already satisfied: regex!=2019.12.17 in /usr/local/lib/python3.12/dist-packages (from transformers) (2024.11.6)\n",
            "Requirement already satisfied: requests in /usr/local/lib/python3.12/dist-packages (from transformers) (2.32.4)\n",
            "Requirement already satisfied: tokenizers<0.22,>=0.21 in /usr/local/lib/python3.12/dist-packages (from transformers) (0.21.4)\n",
            "Requirement already satisfied: safetensors>=0.4.3 in /usr/local/lib/python3.12/dist-packages (from transformers) (0.6.2)\n",
            "Requirement already satisfied: tqdm>=4.27 in /usr/local/lib/python3.12/dist-packages (from transformers) (4.67.1)\n",
            "Requirement already satisfied: typing-extensions>=4.10.0 in /usr/local/lib/python3.12/dist-packages (from torch) (4.15.0)\n",
            "Requirement already satisfied: setuptools in /usr/local/lib/python3.12/dist-packages (from torch) (75.2.0)\n",
            "Requirement already satisfied: sympy>=1.13.3 in /usr/local/lib/python3.12/dist-packages (from torch) (1.13.3)\n",
            "Requirement already satisfied: networkx in /usr/local/lib/python3.12/dist-packages (from torch) (3.5)\n",
            "Requirement already satisfied: jinja2 in /usr/local/lib/python3.12/dist-packages (from torch) (3.1.6)\n",
            "Requirement already satisfied: fsspec in /usr/local/lib/python3.12/dist-packages (from torch) (2025.3.0)\n",
            "Requirement already satisfied: nvidia-cuda-nvrtc-cu12==12.6.77 in /usr/local/lib/python3.12/dist-packages (from torch) (12.6.77)\n",
            "Requirement already satisfied: nvidia-cuda-runtime-cu12==12.6.77 in /usr/local/lib/python3.12/dist-packages (from torch) (12.6.77)\n",
            "Requirement already satisfied: nvidia-cuda-cupti-cu12==12.6.80 in /usr/local/lib/python3.12/dist-packages (from torch) (12.6.80)\n",
            "Requirement already satisfied: nvidia-cudnn-cu12==9.10.2.21 in /usr/local/lib/python3.12/dist-packages (from torch) (9.10.2.21)\n",
            "Requirement already satisfied: nvidia-cublas-cu12==12.6.4.1 in /usr/local/lib/python3.12/dist-packages (from torch) (12.6.4.1)\n",
            "Requirement already satisfied: nvidia-cufft-cu12==11.3.0.4 in /usr/local/lib/python3.12/dist-packages (from torch) (11.3.0.4)\n",
            "Requirement already satisfied: nvidia-curand-cu12==10.3.7.77 in /usr/local/lib/python3.12/dist-packages (from torch) (10.3.7.77)\n",
            "Requirement already satisfied: nvidia-cusolver-cu12==11.7.1.2 in /usr/local/lib/python3.12/dist-packages (from torch) (11.7.1.2)\n",
            "Requirement already satisfied: nvidia-cusparse-cu12==12.5.4.2 in /usr/local/lib/python3.12/dist-packages (from torch) (12.5.4.2)\n",
            "Requirement already satisfied: nvidia-cusparselt-cu12==0.7.1 in /usr/local/lib/python3.12/dist-packages (from torch) (0.7.1)\n",
            "Requirement already satisfied: nvidia-nccl-cu12==2.27.3 in /usr/local/lib/python3.12/dist-packages (from torch) (2.27.3)\n",
            "Requirement already satisfied: nvidia-nvtx-cu12==12.6.77 in /usr/local/lib/python3.12/dist-packages (from torch) (12.6.77)\n",
            "Requirement already satisfied: nvidia-nvjitlink-cu12==12.6.85 in /usr/local/lib/python3.12/dist-packages (from torch) (12.6.85)\n",
            "Requirement already satisfied: nvidia-cufile-cu12==1.11.1.6 in /usr/local/lib/python3.12/dist-packages (from torch) (1.11.1.6)\n",
            "Requirement already satisfied: triton==3.4.0 in /usr/local/lib/python3.12/dist-packages (from torch) (3.4.0)\n",
            "Requirement already satisfied: accelerate>=0.23.0 in /usr/local/lib/python3.12/dist-packages (from transformer-lens) (1.10.1)\n",
            "Requirement already satisfied: beartype<0.15.0,>=0.14.1 in /usr/local/lib/python3.12/dist-packages (from transformer-lens) (0.14.1)\n",
            "Requirement already satisfied: better-abc<0.0.4,>=0.0.3 in /usr/local/lib/python3.12/dist-packages (from transformer-lens) (0.0.3)\n",
            "Requirement already satisfied: einops>=0.6.0 in /usr/local/lib/python3.12/dist-packages (from transformer-lens) (0.8.1)\n",
            "Requirement already satisfied: fancy-einsum>=0.0.3 in /usr/local/lib/python3.12/dist-packages (from transformer-lens) (0.0.3)\n",
            "Requirement already satisfied: jaxtyping>=0.2.11 in /usr/local/lib/python3.12/dist-packages (from transformer-lens) (0.3.2)\n",
            "Requirement already satisfied: pandas>=1.1.5 in /usr/local/lib/python3.12/dist-packages (from transformer-lens) (2.2.2)\n",
            "Requirement already satisfied: rich>=12.6.0 in /usr/local/lib/python3.12/dist-packages (from transformer-lens) (13.9.4)\n",
            "Requirement already satisfied: sentencepiece in /usr/local/lib/python3.12/dist-packages (from transformer-lens) (0.2.1)\n",
            "Requirement already satisfied: transformers-stream-generator<0.0.6,>=0.0.5 in /usr/local/lib/python3.12/dist-packages (from transformer-lens) (0.0.5)\n",
            "Requirement already satisfied: typeguard<5.0,>=4.2 in /usr/local/lib/python3.12/dist-packages (from transformer-lens) (4.4.4)\n",
            "Requirement already satisfied: wandb>=0.13.5 in /usr/local/lib/python3.12/dist-packages (from transformer-lens) (0.21.1)\n",
            "Requirement already satisfied: pyarrow>=15.0.0 in /usr/local/lib/python3.12/dist-packages (from datasets) (18.1.0)\n",
            "Requirement already satisfied: dill<0.3.9,>=0.3.0 in /usr/local/lib/python3.12/dist-packages (from datasets) (0.3.8)\n",
            "Requirement already satisfied: xxhash in /usr/local/lib/python3.12/dist-packages (from datasets) (3.5.0)\n",
            "Requirement already satisfied: multiprocess<0.70.17 in /usr/local/lib/python3.12/dist-packages (from datasets) (0.70.16)\n",
            "Requirement already satisfied: scipy>=1.6.0 in /usr/local/lib/python3.12/dist-packages (from scikit-learn) (1.16.1)\n",
            "Requirement already satisfied: joblib>=1.2.0 in /usr/local/lib/python3.12/dist-packages (from scikit-learn) (1.5.1)\n",
            "Requirement already satisfied: threadpoolctl>=3.1.0 in /usr/local/lib/python3.12/dist-packages (from scikit-learn) (3.6.0)\n",
            "Requirement already satisfied: psutil in /usr/local/lib/python3.12/dist-packages (from accelerate>=0.23.0->transformer-lens) (5.9.5)\n",
            "Requirement already satisfied: aiohttp!=4.0.0a0,!=4.0.0a1 in /usr/local/lib/python3.12/dist-packages (from fsspec[http]<=2025.3.0,>=2023.1.0->datasets) (3.12.15)\n",
            "Requirement already satisfied: hf-xet<2.0.0,>=1.1.3 in /usr/local/lib/python3.12/dist-packages (from huggingface-hub<1.0,>=0.34.0->transformers) (1.1.8)\n",
            "Requirement already satisfied: wadler-lindig>=0.1.3 in /usr/local/lib/python3.12/dist-packages (from jaxtyping>=0.2.11->transformer-lens) (0.1.7)\n",
            "Requirement already satisfied: python-dateutil>=2.8.2 in /usr/local/lib/python3.12/dist-packages (from pandas>=1.1.5->transformer-lens) (2.9.0.post0)\n",
            "Requirement already satisfied: pytz>=2020.1 in /usr/local/lib/python3.12/dist-packages (from pandas>=1.1.5->transformer-lens) (2025.2)\n",
            "Requirement already satisfied: tzdata>=2022.7 in /usr/local/lib/python3.12/dist-packages (from pandas>=1.1.5->transformer-lens) (2025.2)\n",
            "Requirement already satisfied: charset_normalizer<4,>=2 in /usr/local/lib/python3.12/dist-packages (from requests->transformers) (3.4.3)\n",
            "Requirement already satisfied: idna<4,>=2.5 in /usr/local/lib/python3.12/dist-packages (from requests->transformers) (3.10)\n",
            "Requirement already satisfied: urllib3<3,>=1.21.1 in /usr/local/lib/python3.12/dist-packages (from requests->transformers) (2.5.0)\n",
            "Requirement already satisfied: certifi>=2017.4.17 in /usr/local/lib/python3.12/dist-packages (from requests->transformers) (2025.8.3)\n",
            "Requirement already satisfied: markdown-it-py>=2.2.0 in /usr/local/lib/python3.12/dist-packages (from rich>=12.6.0->transformer-lens) (4.0.0)\n",
            "Requirement already satisfied: pygments<3.0.0,>=2.13.0 in /usr/local/lib/python3.12/dist-packages (from rich>=12.6.0->transformer-lens) (2.19.2)\n",
            "Requirement already satisfied: mpmath<1.4,>=1.1.0 in /usr/local/lib/python3.12/dist-packages (from sympy>=1.13.3->torch) (1.3.0)\n",
            "Requirement already satisfied: click!=8.0.0,>=7.1 in /usr/local/lib/python3.12/dist-packages (from wandb>=0.13.5->transformer-lens) (8.2.1)\n",
            "Requirement already satisfied: gitpython!=3.1.29,>=1.0.0 in /usr/local/lib/python3.12/dist-packages (from wandb>=0.13.5->transformer-lens) (3.1.45)\n",
            "Requirement already satisfied: platformdirs in /usr/local/lib/python3.12/dist-packages (from wandb>=0.13.5->transformer-lens) (4.3.8)\n",
            "Requirement already satisfied: protobuf!=4.21.0,!=5.28.0,<7,>=3.19.0 in /usr/local/lib/python3.12/dist-packages (from wandb>=0.13.5->transformer-lens) (5.29.5)\n",
            "Requirement already satisfied: pydantic<3 in /usr/local/lib/python3.12/dist-packages (from wandb>=0.13.5->transformer-lens) (2.11.7)\n",
            "Requirement already satisfied: sentry-sdk>=2.0.0 in /usr/local/lib/python3.12/dist-packages (from wandb>=0.13.5->transformer-lens) (2.35.0)\n",
            "Requirement already satisfied: MarkupSafe>=2.0 in /usr/local/lib/python3.12/dist-packages (from jinja2->torch) (3.0.2)\n",
            "Requirement already satisfied: aiohappyeyeballs>=2.5.0 in /usr/local/lib/python3.12/dist-packages (from aiohttp!=4.0.0a0,!=4.0.0a1->fsspec[http]<=2025.3.0,>=2023.1.0->datasets) (2.6.1)\n",
            "Requirement already satisfied: aiosignal>=1.4.0 in /usr/local/lib/python3.12/dist-packages (from aiohttp!=4.0.0a0,!=4.0.0a1->fsspec[http]<=2025.3.0,>=2023.1.0->datasets) (1.4.0)\n",
            "Requirement already satisfied: attrs>=17.3.0 in /usr/local/lib/python3.12/dist-packages (from aiohttp!=4.0.0a0,!=4.0.0a1->fsspec[http]<=2025.3.0,>=2023.1.0->datasets) (25.3.0)\n",
            "Requirement already satisfied: frozenlist>=1.1.1 in /usr/local/lib/python3.12/dist-packages (from aiohttp!=4.0.0a0,!=4.0.0a1->fsspec[http]<=2025.3.0,>=2023.1.0->datasets) (1.7.0)\n",
            "Requirement already satisfied: multidict<7.0,>=4.5 in /usr/local/lib/python3.12/dist-packages (from aiohttp!=4.0.0a0,!=4.0.0a1->fsspec[http]<=2025.3.0,>=2023.1.0->datasets) (6.6.4)\n",
            "Requirement already satisfied: propcache>=0.2.0 in /usr/local/lib/python3.12/dist-packages (from aiohttp!=4.0.0a0,!=4.0.0a1->fsspec[http]<=2025.3.0,>=2023.1.0->datasets) (0.3.2)\n",
            "Requirement already satisfied: yarl<2.0,>=1.17.0 in /usr/local/lib/python3.12/dist-packages (from aiohttp!=4.0.0a0,!=4.0.0a1->fsspec[http]<=2025.3.0,>=2023.1.0->datasets) (1.20.1)\n",
            "Requirement already satisfied: gitdb<5,>=4.0.1 in /usr/local/lib/python3.12/dist-packages (from gitpython!=3.1.29,>=1.0.0->wandb>=0.13.5->transformer-lens) (4.0.12)\n",
            "Requirement already satisfied: mdurl~=0.1 in /usr/local/lib/python3.12/dist-packages (from markdown-it-py>=2.2.0->rich>=12.6.0->transformer-lens) (0.1.2)\n",
            "Requirement already satisfied: annotated-types>=0.6.0 in /usr/local/lib/python3.12/dist-packages (from pydantic<3->wandb>=0.13.5->transformer-lens) (0.7.0)\n",
            "Requirement already satisfied: pydantic-core==2.33.2 in /usr/local/lib/python3.12/dist-packages (from pydantic<3->wandb>=0.13.5->transformer-lens) (2.33.2)\n",
            "Requirement already satisfied: typing-inspection>=0.4.0 in /usr/local/lib/python3.12/dist-packages (from pydantic<3->wandb>=0.13.5->transformer-lens) (0.4.1)\n",
            "Requirement already satisfied: six>=1.5 in /usr/local/lib/python3.12/dist-packages (from python-dateutil>=2.8.2->pandas>=1.1.5->transformer-lens) (1.17.0)\n",
            "Requirement already satisfied: smmap<6,>=3.0.1 in /usr/local/lib/python3.12/dist-packages (from gitdb<5,>=4.0.1->gitpython!=3.1.29,>=1.0.0->wandb>=0.13.5->transformer-lens) (5.0.2)\n"
          ]
        },
        {
          "output_type": "error",
          "ename": "KeyboardInterrupt",
          "evalue": "",
          "traceback": [
            "\u001b[0;31m---------------------------------------------------------------------------\u001b[0m",
            "\u001b[0;31mKeyboardInterrupt\u001b[0m                         Traceback (most recent call last)",
            "\u001b[0;32m/tmp/ipython-input-3556143989.py\u001b[0m in \u001b[0;36m<cell line: 0>\u001b[0;34m()\u001b[0m\n\u001b[0;32m----> 1\u001b[0;31m \u001b[0mget_ipython\u001b[0m\u001b[0;34m(\u001b[0m\u001b[0;34m)\u001b[0m\u001b[0;34m.\u001b[0m\u001b[0msystem\u001b[0m\u001b[0;34m(\u001b[0m\u001b[0;34m'pip install transformers torch transformer-lens datasets scikit-learn'\u001b[0m\u001b[0;34m)\u001b[0m\u001b[0;34m\u001b[0m\u001b[0;34m\u001b[0m\u001b[0m\n\u001b[0m",
            "\u001b[0;32m/usr/local/lib/python3.12/dist-packages/google/colab/_shell.py\u001b[0m in \u001b[0;36msystem\u001b[0;34m(self, *args, **kwargs)\u001b[0m\n\u001b[1;32m    150\u001b[0m \u001b[0;34m\u001b[0m\u001b[0m\n\u001b[1;32m    151\u001b[0m     \u001b[0;32mif\u001b[0m \u001b[0mpip_warn\u001b[0m\u001b[0;34m:\u001b[0m\u001b[0;34m\u001b[0m\u001b[0;34m\u001b[0m\u001b[0m\n\u001b[0;32m--> 152\u001b[0;31m       \u001b[0m_pip\u001b[0m\u001b[0;34m.\u001b[0m\u001b[0mprint_previous_import_warning\u001b[0m\u001b[0;34m(\u001b[0m\u001b[0moutput\u001b[0m\u001b[0;34m)\u001b[0m\u001b[0;34m\u001b[0m\u001b[0;34m\u001b[0m\u001b[0m\n\u001b[0m\u001b[1;32m    153\u001b[0m \u001b[0;34m\u001b[0m\u001b[0m\n\u001b[1;32m    154\u001b[0m   \u001b[0;32mdef\u001b[0m \u001b[0m_send_error\u001b[0m\u001b[0;34m(\u001b[0m\u001b[0mself\u001b[0m\u001b[0;34m,\u001b[0m \u001b[0mexc_content\u001b[0m\u001b[0;34m)\u001b[0m\u001b[0;34m:\u001b[0m\u001b[0;34m\u001b[0m\u001b[0;34m\u001b[0m\u001b[0m\n",
            "\u001b[0;32m/usr/local/lib/python3.12/dist-packages/google/colab/_pip.py\u001b[0m in \u001b[0;36mprint_previous_import_warning\u001b[0;34m(output)\u001b[0m\n\u001b[1;32m     54\u001b[0m \u001b[0;32mdef\u001b[0m \u001b[0mprint_previous_import_warning\u001b[0m\u001b[0;34m(\u001b[0m\u001b[0moutput\u001b[0m\u001b[0;34m)\u001b[0m\u001b[0;34m:\u001b[0m\u001b[0;34m\u001b[0m\u001b[0;34m\u001b[0m\u001b[0m\n\u001b[1;32m     55\u001b[0m   \u001b[0;34m\"\"\"Prints a warning about previously imported packages.\"\"\"\u001b[0m\u001b[0;34m\u001b[0m\u001b[0;34m\u001b[0m\u001b[0m\n\u001b[0;32m---> 56\u001b[0;31m   \u001b[0mpackages\u001b[0m \u001b[0;34m=\u001b[0m \u001b[0m_previously_imported_packages\u001b[0m\u001b[0;34m(\u001b[0m\u001b[0moutput\u001b[0m\u001b[0;34m)\u001b[0m\u001b[0;34m\u001b[0m\u001b[0;34m\u001b[0m\u001b[0m\n\u001b[0m\u001b[1;32m     57\u001b[0m   \u001b[0;32mif\u001b[0m \u001b[0mpackages\u001b[0m\u001b[0;34m:\u001b[0m\u001b[0;34m\u001b[0m\u001b[0;34m\u001b[0m\u001b[0m\n\u001b[1;32m     58\u001b[0m     \u001b[0;31m# display a list of packages using the colab-display-data mimetype, which\u001b[0m\u001b[0;34m\u001b[0m\u001b[0;34m\u001b[0m\u001b[0m\n",
            "\u001b[0;32m/usr/local/lib/python3.12/dist-packages/google/colab/_pip.py\u001b[0m in \u001b[0;36m_previously_imported_packages\u001b[0;34m(pip_output)\u001b[0m\n\u001b[1;32m     48\u001b[0m \u001b[0;32mdef\u001b[0m \u001b[0m_previously_imported_packages\u001b[0m\u001b[0;34m(\u001b[0m\u001b[0mpip_output\u001b[0m\u001b[0;34m)\u001b[0m\u001b[0;34m:\u001b[0m\u001b[0;34m\u001b[0m\u001b[0;34m\u001b[0m\u001b[0m\n\u001b[1;32m     49\u001b[0m   \u001b[0;34m\"\"\"List all previously imported packages from a pip install.\"\"\"\u001b[0m\u001b[0;34m\u001b[0m\u001b[0;34m\u001b[0m\u001b[0m\n\u001b[0;32m---> 50\u001b[0;31m   \u001b[0minstalled\u001b[0m \u001b[0;34m=\u001b[0m \u001b[0mset\u001b[0m\u001b[0;34m(\u001b[0m\u001b[0m_extract_toplevel_packages\u001b[0m\u001b[0;34m(\u001b[0m\u001b[0mpip_output\u001b[0m\u001b[0;34m)\u001b[0m\u001b[0;34m)\u001b[0m\u001b[0;34m\u001b[0m\u001b[0;34m\u001b[0m\u001b[0m\n\u001b[0m\u001b[1;32m     51\u001b[0m   \u001b[0;32mreturn\u001b[0m \u001b[0msorted\u001b[0m\u001b[0;34m(\u001b[0m\u001b[0minstalled\u001b[0m\u001b[0;34m.\u001b[0m\u001b[0mintersection\u001b[0m\u001b[0;34m(\u001b[0m\u001b[0mset\u001b[0m\u001b[0;34m(\u001b[0m\u001b[0msys\u001b[0m\u001b[0;34m.\u001b[0m\u001b[0mmodules\u001b[0m\u001b[0;34m)\u001b[0m\u001b[0;34m)\u001b[0m\u001b[0;34m)\u001b[0m\u001b[0;34m\u001b[0m\u001b[0;34m\u001b[0m\u001b[0m\n\u001b[1;32m     52\u001b[0m \u001b[0;34m\u001b[0m\u001b[0m\n",
            "\u001b[0;32m/usr/local/lib/python3.12/dist-packages/google/colab/_pip.py\u001b[0m in \u001b[0;36m_extract_toplevel_packages\u001b[0;34m(pip_output)\u001b[0m\n\u001b[1;32m     37\u001b[0m   \u001b[0;34m\"\"\"Extract the list of toplevel packages associated with a pip install.\"\"\"\u001b[0m\u001b[0;34m\u001b[0m\u001b[0;34m\u001b[0m\u001b[0m\n\u001b[1;32m     38\u001b[0m   \u001b[0mtoplevel\u001b[0m \u001b[0;34m=\u001b[0m \u001b[0mcollections\u001b[0m\u001b[0;34m.\u001b[0m\u001b[0mdefaultdict\u001b[0m\u001b[0;34m(\u001b[0m\u001b[0mset\u001b[0m\u001b[0;34m)\u001b[0m\u001b[0;34m\u001b[0m\u001b[0;34m\u001b[0m\u001b[0m\n\u001b[0;32m---> 39\u001b[0;31m   \u001b[0;32mfor\u001b[0m \u001b[0mm\u001b[0m\u001b[0;34m,\u001b[0m \u001b[0mps\u001b[0m \u001b[0;32min\u001b[0m \u001b[0mimportlib\u001b[0m\u001b[0;34m.\u001b[0m\u001b[0mmetadata\u001b[0m\u001b[0;34m.\u001b[0m\u001b[0mpackages_distributions\u001b[0m\u001b[0;34m(\u001b[0m\u001b[0;34m)\u001b[0m\u001b[0;34m.\u001b[0m\u001b[0mitems\u001b[0m\u001b[0;34m(\u001b[0m\u001b[0;34m)\u001b[0m\u001b[0;34m:\u001b[0m\u001b[0;34m\u001b[0m\u001b[0;34m\u001b[0m\u001b[0m\n\u001b[0m\u001b[1;32m     40\u001b[0m     \u001b[0;32mfor\u001b[0m \u001b[0mp\u001b[0m \u001b[0;32min\u001b[0m \u001b[0mps\u001b[0m\u001b[0;34m:\u001b[0m\u001b[0;34m\u001b[0m\u001b[0;34m\u001b[0m\u001b[0m\n\u001b[1;32m     41\u001b[0m       \u001b[0mtoplevel\u001b[0m\u001b[0;34m[\u001b[0m\u001b[0mp\u001b[0m\u001b[0;34m]\u001b[0m\u001b[0;34m.\u001b[0m\u001b[0madd\u001b[0m\u001b[0;34m(\u001b[0m\u001b[0mm\u001b[0m\u001b[0;34m)\u001b[0m\u001b[0;34m\u001b[0m\u001b[0;34m\u001b[0m\u001b[0m\n",
            "\u001b[0;32m/usr/lib/python3.12/importlib/metadata/__init__.py\u001b[0m in \u001b[0;36mpackages_distributions\u001b[0;34m()\u001b[0m\n\u001b[1;32m    946\u001b[0m     \u001b[0;32mfor\u001b[0m \u001b[0mdist\u001b[0m \u001b[0;32min\u001b[0m \u001b[0mdistributions\u001b[0m\u001b[0;34m(\u001b[0m\u001b[0;34m)\u001b[0m\u001b[0;34m:\u001b[0m\u001b[0;34m\u001b[0m\u001b[0;34m\u001b[0m\u001b[0m\n\u001b[1;32m    947\u001b[0m         \u001b[0;32mfor\u001b[0m \u001b[0mpkg\u001b[0m \u001b[0;32min\u001b[0m \u001b[0m_top_level_declared\u001b[0m\u001b[0;34m(\u001b[0m\u001b[0mdist\u001b[0m\u001b[0;34m)\u001b[0m \u001b[0;32mor\u001b[0m \u001b[0m_top_level_inferred\u001b[0m\u001b[0;34m(\u001b[0m\u001b[0mdist\u001b[0m\u001b[0;34m)\u001b[0m\u001b[0;34m:\u001b[0m\u001b[0;34m\u001b[0m\u001b[0;34m\u001b[0m\u001b[0m\n\u001b[0;32m--> 948\u001b[0;31m             \u001b[0mpkg_to_dist\u001b[0m\u001b[0;34m[\u001b[0m\u001b[0mpkg\u001b[0m\u001b[0;34m]\u001b[0m\u001b[0;34m.\u001b[0m\u001b[0mappend\u001b[0m\u001b[0;34m(\u001b[0m\u001b[0mdist\u001b[0m\u001b[0;34m.\u001b[0m\u001b[0mmetadata\u001b[0m\u001b[0;34m[\u001b[0m\u001b[0;34m'Name'\u001b[0m\u001b[0;34m]\u001b[0m\u001b[0;34m)\u001b[0m\u001b[0;34m\u001b[0m\u001b[0;34m\u001b[0m\u001b[0m\n\u001b[0m\u001b[1;32m    949\u001b[0m     \u001b[0;32mreturn\u001b[0m \u001b[0mdict\u001b[0m\u001b[0;34m(\u001b[0m\u001b[0mpkg_to_dist\u001b[0m\u001b[0;34m)\u001b[0m\u001b[0;34m\u001b[0m\u001b[0;34m\u001b[0m\u001b[0m\n\u001b[1;32m    950\u001b[0m \u001b[0;34m\u001b[0m\u001b[0m\n",
            "\u001b[0;32m/usr/local/lib/python3.12/dist-packages/importlib_metadata/__init__.py\u001b[0m in \u001b[0;36mmetadata\u001b[0;34m(self)\u001b[0m\n\u001b[1;32m    532\u001b[0m             \u001b[0;32mor\u001b[0m \u001b[0mself\u001b[0m\u001b[0;34m.\u001b[0m\u001b[0mread_text\u001b[0m\u001b[0;34m(\u001b[0m\u001b[0;34m''\u001b[0m\u001b[0;34m)\u001b[0m\u001b[0;34m\u001b[0m\u001b[0;34m\u001b[0m\u001b[0m\n\u001b[1;32m    533\u001b[0m         )\n\u001b[0;32m--> 534\u001b[0;31m         \u001b[0;32mreturn\u001b[0m \u001b[0mself\u001b[0m\u001b[0;34m.\u001b[0m\u001b[0m_assemble_message\u001b[0m\u001b[0;34m(\u001b[0m\u001b[0mtext\u001b[0m\u001b[0;34m)\u001b[0m\u001b[0;34m\u001b[0m\u001b[0;34m\u001b[0m\u001b[0m\n\u001b[0m\u001b[1;32m    535\u001b[0m \u001b[0;34m\u001b[0m\u001b[0m\n\u001b[1;32m    536\u001b[0m     \u001b[0;34m@\u001b[0m\u001b[0mstaticmethod\u001b[0m\u001b[0;34m\u001b[0m\u001b[0;34m\u001b[0m\u001b[0m\n",
            "\u001b[0;32m/usr/local/lib/python3.12/dist-packages/importlib_metadata/_functools.py\u001b[0m in \u001b[0;36mwrapper\u001b[0;34m(param, *args, **kwargs)\u001b[0m\n\u001b[1;32m    100\u001b[0m     \u001b[0;32mdef\u001b[0m \u001b[0mwrapper\u001b[0m\u001b[0;34m(\u001b[0m\u001b[0mparam\u001b[0m\u001b[0;34m,\u001b[0m \u001b[0;34m*\u001b[0m\u001b[0margs\u001b[0m\u001b[0;34m,\u001b[0m \u001b[0;34m**\u001b[0m\u001b[0mkwargs\u001b[0m\u001b[0;34m)\u001b[0m\u001b[0;34m:\u001b[0m\u001b[0;34m\u001b[0m\u001b[0;34m\u001b[0m\u001b[0m\n\u001b[1;32m    101\u001b[0m         \u001b[0;32mif\u001b[0m \u001b[0mparam\u001b[0m \u001b[0;32mis\u001b[0m \u001b[0;32mnot\u001b[0m \u001b[0;32mNone\u001b[0m\u001b[0;34m:\u001b[0m\u001b[0;34m\u001b[0m\u001b[0;34m\u001b[0m\u001b[0m\n\u001b[0;32m--> 102\u001b[0;31m             \u001b[0;32mreturn\u001b[0m \u001b[0mfunc\u001b[0m\u001b[0;34m(\u001b[0m\u001b[0mparam\u001b[0m\u001b[0;34m,\u001b[0m \u001b[0;34m*\u001b[0m\u001b[0margs\u001b[0m\u001b[0;34m,\u001b[0m \u001b[0;34m**\u001b[0m\u001b[0mkwargs\u001b[0m\u001b[0;34m)\u001b[0m\u001b[0;34m\u001b[0m\u001b[0;34m\u001b[0m\u001b[0m\n\u001b[0m\u001b[1;32m    103\u001b[0m \u001b[0;34m\u001b[0m\u001b[0m\n\u001b[1;32m    104\u001b[0m     \u001b[0;32mreturn\u001b[0m \u001b[0mwrapper\u001b[0m\u001b[0;34m\u001b[0m\u001b[0;34m\u001b[0m\u001b[0m\n",
            "\u001b[0;32m/usr/local/lib/python3.12/dist-packages/importlib_metadata/__init__.py\u001b[0m in \u001b[0;36m_assemble_message\u001b[0;34m(text)\u001b[0m\n\u001b[1;32m    540\u001b[0m         \u001b[0;32mfrom\u001b[0m \u001b[0;34m.\u001b[0m \u001b[0;32mimport\u001b[0m \u001b[0m_adapters\u001b[0m\u001b[0;34m\u001b[0m\u001b[0;34m\u001b[0m\u001b[0m\n\u001b[1;32m    541\u001b[0m \u001b[0;34m\u001b[0m\u001b[0m\n\u001b[0;32m--> 542\u001b[0;31m         \u001b[0;32mreturn\u001b[0m \u001b[0m_adapters\u001b[0m\u001b[0;34m.\u001b[0m\u001b[0mMessage\u001b[0m\u001b[0;34m(\u001b[0m\u001b[0memail\u001b[0m\u001b[0;34m.\u001b[0m\u001b[0mmessage_from_string\u001b[0m\u001b[0;34m(\u001b[0m\u001b[0mtext\u001b[0m\u001b[0;34m)\u001b[0m\u001b[0;34m)\u001b[0m\u001b[0;34m\u001b[0m\u001b[0;34m\u001b[0m\u001b[0m\n\u001b[0m\u001b[1;32m    543\u001b[0m \u001b[0;34m\u001b[0m\u001b[0m\n\u001b[1;32m    544\u001b[0m     \u001b[0;34m@\u001b[0m\u001b[0mproperty\u001b[0m\u001b[0;34m\u001b[0m\u001b[0;34m\u001b[0m\u001b[0m\n",
            "\u001b[0;32m/usr/lib/python3.12/email/__init__.py\u001b[0m in \u001b[0;36mmessage_from_string\u001b[0;34m(s, *args, **kws)\u001b[0m\n\u001b[1;32m     35\u001b[0m     \"\"\"\n\u001b[1;32m     36\u001b[0m     \u001b[0;32mfrom\u001b[0m \u001b[0memail\u001b[0m\u001b[0;34m.\u001b[0m\u001b[0mparser\u001b[0m \u001b[0;32mimport\u001b[0m \u001b[0mParser\u001b[0m\u001b[0;34m\u001b[0m\u001b[0;34m\u001b[0m\u001b[0m\n\u001b[0;32m---> 37\u001b[0;31m     \u001b[0;32mreturn\u001b[0m \u001b[0mParser\u001b[0m\u001b[0;34m(\u001b[0m\u001b[0;34m*\u001b[0m\u001b[0margs\u001b[0m\u001b[0;34m,\u001b[0m \u001b[0;34m**\u001b[0m\u001b[0mkws\u001b[0m\u001b[0;34m)\u001b[0m\u001b[0;34m.\u001b[0m\u001b[0mparsestr\u001b[0m\u001b[0;34m(\u001b[0m\u001b[0ms\u001b[0m\u001b[0;34m)\u001b[0m\u001b[0;34m\u001b[0m\u001b[0;34m\u001b[0m\u001b[0m\n\u001b[0m\u001b[1;32m     38\u001b[0m \u001b[0;34m\u001b[0m\u001b[0m\n\u001b[1;32m     39\u001b[0m \u001b[0;32mdef\u001b[0m \u001b[0mmessage_from_bytes\u001b[0m\u001b[0;34m(\u001b[0m\u001b[0ms\u001b[0m\u001b[0;34m,\u001b[0m \u001b[0;34m*\u001b[0m\u001b[0margs\u001b[0m\u001b[0;34m,\u001b[0m \u001b[0;34m**\u001b[0m\u001b[0mkws\u001b[0m\u001b[0;34m)\u001b[0m\u001b[0;34m:\u001b[0m\u001b[0;34m\u001b[0m\u001b[0;34m\u001b[0m\u001b[0m\n",
            "\u001b[0;32m/usr/lib/python3.12/email/parser.py\u001b[0m in \u001b[0;36mparsestr\u001b[0;34m(self, text, headersonly)\u001b[0m\n\u001b[1;32m     62\u001b[0m         \u001b[0mthe\u001b[0m \u001b[0mfile\u001b[0m\u001b[0;34m.\u001b[0m\u001b[0;34m\u001b[0m\u001b[0;34m\u001b[0m\u001b[0m\n\u001b[1;32m     63\u001b[0m         \"\"\"\n\u001b[0;32m---> 64\u001b[0;31m         \u001b[0;32mreturn\u001b[0m \u001b[0mself\u001b[0m\u001b[0;34m.\u001b[0m\u001b[0mparse\u001b[0m\u001b[0;34m(\u001b[0m\u001b[0mStringIO\u001b[0m\u001b[0;34m(\u001b[0m\u001b[0mtext\u001b[0m\u001b[0;34m)\u001b[0m\u001b[0;34m,\u001b[0m \u001b[0mheadersonly\u001b[0m\u001b[0;34m=\u001b[0m\u001b[0mheadersonly\u001b[0m\u001b[0;34m)\u001b[0m\u001b[0;34m\u001b[0m\u001b[0;34m\u001b[0m\u001b[0m\n\u001b[0m\u001b[1;32m     65\u001b[0m \u001b[0;34m\u001b[0m\u001b[0m\n\u001b[1;32m     66\u001b[0m \u001b[0;34m\u001b[0m\u001b[0m\n",
            "\u001b[0;32m/usr/lib/python3.12/email/parser.py\u001b[0m in \u001b[0;36mparse\u001b[0;34m(self, fp, headersonly)\u001b[0m\n\u001b[1;32m     51\u001b[0m             \u001b[0mfeedparser\u001b[0m\u001b[0;34m.\u001b[0m\u001b[0m_set_headersonly\u001b[0m\u001b[0;34m(\u001b[0m\u001b[0;34m)\u001b[0m\u001b[0;34m\u001b[0m\u001b[0;34m\u001b[0m\u001b[0m\n\u001b[1;32m     52\u001b[0m         \u001b[0;32mwhile\u001b[0m \u001b[0mdata\u001b[0m \u001b[0;34m:=\u001b[0m \u001b[0mfp\u001b[0m\u001b[0;34m.\u001b[0m\u001b[0mread\u001b[0m\u001b[0;34m(\u001b[0m\u001b[0;36m8192\u001b[0m\u001b[0;34m)\u001b[0m\u001b[0;34m:\u001b[0m\u001b[0;34m\u001b[0m\u001b[0;34m\u001b[0m\u001b[0m\n\u001b[0;32m---> 53\u001b[0;31m             \u001b[0mfeedparser\u001b[0m\u001b[0;34m.\u001b[0m\u001b[0mfeed\u001b[0m\u001b[0;34m(\u001b[0m\u001b[0mdata\u001b[0m\u001b[0;34m)\u001b[0m\u001b[0;34m\u001b[0m\u001b[0;34m\u001b[0m\u001b[0m\n\u001b[0m\u001b[1;32m     54\u001b[0m         \u001b[0;32mreturn\u001b[0m \u001b[0mfeedparser\u001b[0m\u001b[0;34m.\u001b[0m\u001b[0mclose\u001b[0m\u001b[0;34m(\u001b[0m\u001b[0;34m)\u001b[0m\u001b[0;34m\u001b[0m\u001b[0;34m\u001b[0m\u001b[0m\n\u001b[1;32m     55\u001b[0m \u001b[0;34m\u001b[0m\u001b[0m\n",
            "\u001b[0;32m/usr/lib/python3.12/email/feedparser.py\u001b[0m in \u001b[0;36mfeed\u001b[0;34m(self, data)\u001b[0m\n\u001b[1;32m    171\u001b[0m     \u001b[0;32mdef\u001b[0m \u001b[0mfeed\u001b[0m\u001b[0;34m(\u001b[0m\u001b[0mself\u001b[0m\u001b[0;34m,\u001b[0m \u001b[0mdata\u001b[0m\u001b[0;34m)\u001b[0m\u001b[0;34m:\u001b[0m\u001b[0;34m\u001b[0m\u001b[0;34m\u001b[0m\u001b[0m\n\u001b[1;32m    172\u001b[0m         \u001b[0;34m\"\"\"Push more data into the parser.\"\"\"\u001b[0m\u001b[0;34m\u001b[0m\u001b[0;34m\u001b[0m\u001b[0m\n\u001b[0;32m--> 173\u001b[0;31m         \u001b[0mself\u001b[0m\u001b[0;34m.\u001b[0m\u001b[0m_input\u001b[0m\u001b[0;34m.\u001b[0m\u001b[0mpush\u001b[0m\u001b[0;34m(\u001b[0m\u001b[0mdata\u001b[0m\u001b[0;34m)\u001b[0m\u001b[0;34m\u001b[0m\u001b[0;34m\u001b[0m\u001b[0m\n\u001b[0m\u001b[1;32m    174\u001b[0m         \u001b[0mself\u001b[0m\u001b[0;34m.\u001b[0m\u001b[0m_call_parse\u001b[0m\u001b[0;34m(\u001b[0m\u001b[0;34m)\u001b[0m\u001b[0;34m\u001b[0m\u001b[0;34m\u001b[0m\u001b[0m\n\u001b[1;32m    175\u001b[0m \u001b[0;34m\u001b[0m\u001b[0m\n",
            "\u001b[0;32m/usr/lib/python3.12/email/feedparser.py\u001b[0m in \u001b[0;36mpush\u001b[0;34m(self, data)\u001b[0m\n\u001b[1;32m    107\u001b[0m         \u001b[0;31m# Crack into lines, preserving the linesep characters.\u001b[0m\u001b[0;34m\u001b[0m\u001b[0;34m\u001b[0m\u001b[0m\n\u001b[1;32m    108\u001b[0m         \u001b[0mself\u001b[0m\u001b[0;34m.\u001b[0m\u001b[0m_partial\u001b[0m\u001b[0;34m.\u001b[0m\u001b[0mseek\u001b[0m\u001b[0;34m(\u001b[0m\u001b[0;36m0\u001b[0m\u001b[0;34m)\u001b[0m\u001b[0;34m\u001b[0m\u001b[0;34m\u001b[0m\u001b[0m\n\u001b[0;32m--> 109\u001b[0;31m         \u001b[0mparts\u001b[0m \u001b[0;34m=\u001b[0m \u001b[0mself\u001b[0m\u001b[0;34m.\u001b[0m\u001b[0m_partial\u001b[0m\u001b[0;34m.\u001b[0m\u001b[0mreadlines\u001b[0m\u001b[0;34m(\u001b[0m\u001b[0;34m)\u001b[0m\u001b[0;34m\u001b[0m\u001b[0;34m\u001b[0m\u001b[0m\n\u001b[0m\u001b[1;32m    110\u001b[0m         \u001b[0mself\u001b[0m\u001b[0;34m.\u001b[0m\u001b[0m_partial\u001b[0m\u001b[0;34m.\u001b[0m\u001b[0mseek\u001b[0m\u001b[0;34m(\u001b[0m\u001b[0;36m0\u001b[0m\u001b[0;34m)\u001b[0m\u001b[0;34m\u001b[0m\u001b[0;34m\u001b[0m\u001b[0m\n\u001b[1;32m    111\u001b[0m         \u001b[0mself\u001b[0m\u001b[0;34m.\u001b[0m\u001b[0m_partial\u001b[0m\u001b[0;34m.\u001b[0m\u001b[0mtruncate\u001b[0m\u001b[0;34m(\u001b[0m\u001b[0;34m)\u001b[0m\u001b[0;34m\u001b[0m\u001b[0;34m\u001b[0m\u001b[0m\n",
            "\u001b[0;31mKeyboardInterrupt\u001b[0m: "
          ]
        }
      ],
      "source": [
        "!pip install transformers torch transformer-lens datasets scikit-learn"
      ]
    },
    {
      "cell_type": "code",
      "source": [
        "import json\n",
        "import torch\n",
        "import numpy as np\n",
        "import pandas as pd\n",
        "from sklearn.model_selection import train_test_split\n",
        "from sklearn.linear_model import LogisticRegression\n",
        "from sklearn.metrics import accuracy_score, classification_report, confusion_matrix\n",
        "import matplotlib.pyplot as plt\n",
        "import seaborn as sns\n",
        "from transformer_lens import HookedTransformer\n",
        "from transformers import GPT2Tokenizer\n",
        "import warnings\n",
        "import polars as pl\n",
        "warnings.filterwarnings('ignore')"
      ],
      "metadata": {
        "id": "EiEq23t-XnP8"
      },
      "execution_count": 38,
      "outputs": []
    },
    {
      "cell_type": "code",
      "source": [
        "# Set device\n",
        "device = torch.device('cuda' if torch.cuda.is_available() else 'cpu')\n",
        "print(f\"Using device: {device}\")"
      ],
      "metadata": {
        "colab": {
          "base_uri": "https://localhost:8080/"
        },
        "id": "3Sj0wtBMZKT-",
        "outputId": "ab48ccdb-1808-40cf-9af0-cff1d74697ca"
      },
      "execution_count": 39,
      "outputs": [
        {
          "output_type": "stream",
          "name": "stdout",
          "text": [
            "Using device: cuda\n"
          ]
        }
      ]
    },
    {
      "cell_type": "code",
      "source": [
        "def load_jsonl_data(file_path):\n",
        "    \"\"\"Load data from JSONL file format\"\"\"\n",
        "    data = []\n",
        "    with open(file_path, 'r') as f:\n",
        "        for line in f:\n",
        "            if line.strip():  # Skip empty lines\n",
        "                data.append(json.loads(line.strip()))\n",
        "    return data\n",
        "\n",
        "data = load_jsonl_data('/content/sample_data/sample_data.jsonl')\n"
      ],
      "metadata": {
        "collapsed": true,
        "id": "YA4jrC8JZKeQ"
      },
      "execution_count": 40,
      "outputs": []
    },
    {
      "cell_type": "code",
      "source": [
        "\n",
        "df = pl.DataFrame(data)"
      ],
      "metadata": {
        "id": "7E8dpCVSZKnQ"
      },
      "execution_count": 41,
      "outputs": []
    },
    {
      "cell_type": "code",
      "source": [
        "print(\"Dataset loaded successfully!\")\n",
        "print(f\"Total samples: {len(df)}\")\n",
        "print(f\"Positive examples (privilege escalation): {df['label'].sum()}\")\n",
        "print(f\"Negative examples (normal): {(~df['label']).sum()}\")"
      ],
      "metadata": {
        "colab": {
          "base_uri": "https://localhost:8080/"
        },
        "id": "3Bm6_kk5ZKvH",
        "outputId": "975f75cd-7e37-497c-e4db-3ffe2e17d0aa"
      },
      "execution_count": 42,
      "outputs": [
        {
          "output_type": "stream",
          "name": "stdout",
          "text": [
            "Dataset loaded successfully!\n",
            "Total samples: 2082\n",
            "Positive examples (privilege escalation): 1082\n",
            "Negative examples (normal): 1000\n"
          ]
        }
      ]
    },
    {
      "cell_type": "markdown",
      "source": [
        "### Get a feeling for the data\n"
      ],
      "metadata": {
        "id": "5M6kKtMMcnsT"
      }
    },
    {
      "cell_type": "code",
      "source": [
        "print(\"\\nCategory distribution:\")\n",
        "print(df['category'].value_counts())\n",
        "\n",
        "print(\"\\nObfuscation level distribution:\")\n",
        "print(df['obfuscation_level'].value_counts())\n",
        "\n",
        "print(\"\\nSample commands:\")\n",
        "for row in df.head().iter_rows():\n",
        "    label_str = \"PRIVILEGE ESCALATION\" if row[1] else \"NORMAL\"\n",
        "    print(f\"[{label_str}] {row[0][:60]}{'...' if len(row[0]) > 60 else ''}\")"
      ],
      "metadata": {
        "id": "KuYF6LAwZK6k",
        "colab": {
          "base_uri": "https://localhost:8080/"
        },
        "outputId": "2f1cb0d8-d6d7-4167-b85a-8a01bdee57e4"
      },
      "execution_count": 43,
      "outputs": [
        {
          "output_type": "stream",
          "name": "stdout",
          "text": [
            "\n",
            "Category distribution:\n",
            "shape: (13, 2)\n",
            "┌──────────────────┬───────┐\n",
            "│ category         ┆ count │\n",
            "│ ---              ┆ ---   │\n",
            "│ str              ┆ u32   │\n",
            "╞══════════════════╪═══════╡\n",
            "│ suid_abuse       ┆ 166   │\n",
            "│ false_positive   ┆ 125   │\n",
            "│ kernel_exploit   ┆ 125   │\n",
            "│ direct_pe        ┆ 166   │\n",
            "│ normal_sudo      ┆ 250   │\n",
            "│ …                ┆ …     │\n",
            "│ permission_check ┆ 250   │\n",
            "│ capability_abuse ┆ 125   │\n",
            "│ legitimate_admin ┆ 250   │\n",
            "│ service_abuse    ┆ 125   │\n",
            "│ false_negative   ┆ 125   │\n",
            "└──────────────────┴───────┘\n",
            "\n",
            "Obfuscation level distribution:\n",
            "shape: (3, 2)\n",
            "┌───────────────────┬───────┐\n",
            "│ obfuscation_level ┆ count │\n",
            "│ ---               ┆ ---   │\n",
            "│ i64               ┆ u32   │\n",
            "╞═══════════════════╪═══════╡\n",
            "│ 1                 ┆ 426   │\n",
            "│ 2                 ┆ 218   │\n",
            "│ 0                 ┆ 1438  │\n",
            "└───────────────────┴───────┘\n",
            "\n",
            "Sample commands:\n",
            "[NORMAL] docker exec -it web-app bash\n",
            "[NORMAL] tcpdump -i wlan0\n",
            "[PRIVILEGE ESCALATION] echo '* * * * * root /tmp/backdoor.sh' >> /etc/crontab\n",
            "[NORMAL] lsof -i :80\n",
            "[NORMAL] sudo usermod -aG adm mysql\n"
          ]
        }
      ]
    },
    {
      "cell_type": "code",
      "source": [
        "df = df.with_columns(pl.col('label').cast(pl.Int64).alias('label_int'))"
      ],
      "metadata": {
        "id": "90_gcYv6fGw7"
      },
      "execution_count": 44,
      "outputs": []
    },
    {
      "cell_type": "markdown",
      "source": [
        "### Load model and extract activations"
      ],
      "metadata": {
        "id": "OO9VaPXchkw0"
      }
    },
    {
      "cell_type": "code",
      "source": [
        "model = HookedTransformer.from_pretrained('gpt2', device=device)\n",
        "tokenizer = GPT2Tokenizer.from_pretrained('gpt2')"
      ],
      "metadata": {
        "id": "4C-5oAXsbreT",
        "colab": {
          "base_uri": "https://localhost:8080/"
        },
        "outputId": "38191003-cb32-48b7-fe36-e280dcae713b"
      },
      "execution_count": 45,
      "outputs": [
        {
          "output_type": "stream",
          "name": "stdout",
          "text": [
            "Loaded pretrained model gpt2 into HookedTransformer\n"
          ]
        }
      ]
    },
    {
      "cell_type": "code",
      "source": [
        "tokenizer.pad_token = tokenizer.eos_token"
      ],
      "metadata": {
        "id": "M_QnrSggbrnE"
      },
      "execution_count": 46,
      "outputs": []
    },
    {
      "cell_type": "code",
      "source": [
        "print(f\"Number of layers: {model.cfg.n_layers}\")\n",
        "print(f\"Hidden dimension: {model.cfg.d_model}\")"
      ],
      "metadata": {
        "colab": {
          "base_uri": "https://localhost:8080/"
        },
        "id": "bJx8Rqm5jvn6",
        "outputId": "20b664dd-1b89-4d2b-a59c-ab7f6ddb1017"
      },
      "execution_count": 47,
      "outputs": [
        {
          "output_type": "stream",
          "name": "stdout",
          "text": [
            "Number of layers: 12\n",
            "Hidden dimension: 768\n"
          ]
        }
      ]
    },
    {
      "cell_type": "code",
      "source": [
        "labels = df['label'].cast(pl.Int64).to_numpy()"
      ],
      "metadata": {
        "id": "YzIPusx-5Vo9"
      },
      "execution_count": 49,
      "outputs": []
    },
    {
      "cell_type": "code",
      "source": [
        "def extract_activations(commands, layer_idx=-1, activation_type=\"resid_post\"):\n",
        "\n",
        "    if layer_idx == -1:\n",
        "        layer_idx = model.cfg.n_layers - 1\n",
        "\n",
        "    activations = []\n",
        "\n",
        "\n",
        "    batch_size = 8\n",
        "\n",
        "    for i in range(0, len(commands), batch_size):\n",
        "        batch_commands = commands[i:i+batch_size]\n",
        "\n",
        "        tokens = tokenizer(\n",
        "            batch_commands,\n",
        "            padding=True,\n",
        "            truncation=True,\n",
        "            max_length=128,  #good length for bash commands\n",
        "            return_tensors=\"pt\"\n",
        "        ).to(device)\n",
        "\n",
        "        with torch.no_grad():\n",
        "            _, cache = model.run_with_cache(tokens.input_ids)\n",
        "\n",
        "            if layer_idx == -1:\n",
        "                layer_idx = model.cfg.n_layers - 1\n",
        "\n",
        "            layer_activations = cache[f\"blocks.{layer_idx}.hook_{activation_type}\"]\n",
        "\n",
        "\n",
        "            pooled_activations = layer_activations.mean(dim=1)  # Shape: (batch_size, d_model)\n",
        "\n",
        "            activations.append(pooled_activations.cpu().numpy())\n",
        "\n",
        "    return np.vstack(activations)"
      ],
      "metadata": {
        "id": "_RkwsAsBjtMK"
      },
      "execution_count": 50,
      "outputs": []
    },
    {
      "cell_type": "code",
      "metadata": {
        "colab": {
          "base_uri": "https://localhost:8080/"
        },
        "id": "91718ab3",
        "outputId": "5e075eb5-ddea-41e1-ecda-85c33798405b"
      },
      "source": [
        "print(\"\\nExtracting activations from the last layer of GPT-2...\")\n",
        "all_commands = df['command'].to_list() # Convert Polars Series to Python list\n",
        "command_activations = extract_activations(all_commands)\n",
        "\n",
        "print(f\"Shape of extracted activations: {command_activations.shape}\")"
      ],
      "execution_count": 51,
      "outputs": [
        {
          "output_type": "stream",
          "name": "stdout",
          "text": [
            "\n",
            "Extracting activations from the last layer of GPT-2...\n",
            "Shape of extracted activations: (2082, 768)\n"
          ]
        }
      ]
    },
    {
      "cell_type": "code",
      "source": [
        "def extract_multiple_layers(commands, layers_to_try=None):\n",
        "    \"\"\"Extract activations from multiple layers for comparison\"\"\"\n",
        "    if layers_to_try is None:\n",
        "        # Try a few different layers\n",
        "        layers_to_try = [0, model.cfg.n_layers // 2, model.cfg.n_layers - 1]\n",
        "\n",
        "    all_activations = {}\n",
        "\n",
        "    for layer in layers_to_try:\n",
        "        print(f\"Extracting activations from layer {layer}...\")\n",
        "        activations = extract_activations(commands, layer_idx=layer)\n",
        "        all_activations[f\"layer_{layer}\"] = activations\n",
        "\n",
        "    return all_activations\n",
        "\n",
        "print(f\"\\nReady to extract activations from all {len(df)} commands...\")"
      ],
      "metadata": {
        "colab": {
          "base_uri": "https://localhost:8080/"
        },
        "id": "sZn1jKGGjtTX",
        "outputId": "75c98e8e-fb26-425e-90ab-74cd64f83538"
      },
      "execution_count": 52,
      "outputs": [
        {
          "output_type": "stream",
          "name": "stdout",
          "text": [
            "\n",
            "Ready to extract activations from all 2082 commands...\n"
          ]
        }
      ]
    },
    {
      "cell_type": "code",
      "metadata": {
        "id": "d5666e01"
      },
      "source": [
        "import re\n",
        "from typing import Dict\n",
        "\n",
        "def command_to_template(cmd: str) -> str:\n",
        "    # remove paths, numbers, quoted strings, and collapse spaces\n",
        "    cmd = re.sub(r\"/[^\\s]+\", \"/PATH\", cmd)\n",
        "    cmd = re.sub(r\"-?\\d+\", \"<NUM>\", cmd)\n",
        "    cmd = re.sub(r\"\\\".*?\\\"|'.*?'\", \"<STR>\", cmd)\n",
        "    cmd = re.sub(r\"\\s+\", \" \", cmd).strip()\n",
        "    return cmd\n",
        "\n",
        "def train_and_evaluate_probe_no_leakage(activations, labels, commands, test_size=0.3, random_state=42):\n",
        "    \"\"\"\n",
        "    Train linear probe on activations, ensuring no command template appears in both train and test.\n",
        "    Returns test_df with original index.\n",
        "    \"\"\"\n",
        "    df = pd.DataFrame({\n",
        "        'command': commands,\n",
        "        'label': labels,\n",
        "        'activation': list(activations)\n",
        "    })\n",
        "    df['template'] = df['command'].apply(command_to_template)\n",
        "\n",
        "    unique_templates = df['template'].unique()\n",
        "    train_templates, test_templates = train_test_split(\n",
        "        unique_templates,\n",
        "        test_size=test_size,\n",
        "        random_state=random_state,\n",
        "        stratify=[df[df['template']==t]['label'].iloc[0] for t in unique_templates]\n",
        "    )\n",
        "\n",
        "    train_df = df[df['template'].isin(train_templates)].reset_index(drop=True)\n",
        "    test_df = df[df['template'].isin(test_templates)].reset_index(drop=False)\n",
        "\n",
        "    X_train = np.array(train_df['activation'].tolist())\n",
        "    y_train = train_df['label'].values\n",
        "    X_test = np.array(test_df['activation'].tolist())\n",
        "    y_test = test_df['label'].values\n",
        "\n",
        "    probe = LogisticRegression(max_iter=1000, random_state=random_state)\n",
        "    probe.fit(X_train, y_train)\n",
        "\n",
        "    y_pred_train = probe.predict(X_train)\n",
        "    y_pred_test = probe.predict(X_test)\n",
        "    y_proba_test = probe.predict_proba(X_test)[:, 1]\n",
        "\n",
        "    results = {\n",
        "        'probe': probe,\n",
        "        'train_accuracy': accuracy_score(y_train, y_pred_train),\n",
        "        'test_accuracy': accuracy_score(y_test, y_pred_test),\n",
        "        'classification_report': classification_report(y_test, y_pred_test, output_dict=True),\n",
        "        'confusion_matrix': confusion_matrix(y_test, y_pred_test),\n",
        "        'true_labels': y_test,\n",
        "        'predictions': y_pred_test,\n",
        "        'probabilities': y_proba_test,\n",
        "        'n_train': len(X_train),\n",
        "        'n_test': len(X_test)\n",
        "    }\n",
        "    return results, train_df, test_df\n",
        "\n",
        "def analyze_by_category(test_df, results):\n",
        "    test_df = test_df.copy()\n",
        "    test_df['predictions'] = results['predictions']\n",
        "    test_df['probabilities'] = results['probabilities']\n",
        "    test_df['correct'] = (test_df['label'] == test_df['predictions'])\n",
        "\n",
        "    category_analysis = test_df.groupby('category').agg({\n",
        "        'correct': 'mean',\n",
        "        'label': 'count',\n",
        "        'probabilities': 'mean'\n",
        "    }).round(3)\n",
        "    category_analysis.columns = ['Accuracy', 'Count', 'Avg_Probability']\n",
        "    return category_analysis\n",
        "\n",
        "def keyword_baseline(df):\n",
        "    dangerous_keywords = ['sudo', 'doas', 'pkexec', 'su -', 'chmod +s',\n",
        "                          'setuid', 'systemctl', 'service', 'crontab',\n",
        "                          '/bin/bash', '/bin/sh']\n",
        "\n",
        "    def simple_classifier(cmd):\n",
        "        return int(any(kw in cmd.lower() for kw in dangerous_keywords))\n",
        "\n",
        "    preds = df['command'].apply(simple_classifier).values\n",
        "    return accuracy_score(df['label'].values, preds)\n",
        "\n",
        "def plot_results(layer_results: Dict[str, Dict]) -> None:\n",
        "    \"\"\"Plot probe performance across layers\"\"\"\n",
        "    layers = []\n",
        "    train_accs = []\n",
        "    test_accs = []\n",
        "\n",
        "    for layer_name, results in layer_results.items():\n",
        "        layer_num = int(layer_name.split('_')[1])\n",
        "        layers.append(layer_num)\n",
        "        train_accs.append(results['train_accuracy'])\n",
        "        test_accs.append(results['test_accuracy'])\n",
        "\n",
        "    plt.figure(figsize=(10, 6))\n",
        "    plt.plot(layers, train_accs, 'o-', label='Train Accuracy', color='blue')\n",
        "    plt.plot(layers, test_accs, 'o-', label='Test Accuracy', color='red')\n",
        "    plt.xlabel('Layer')\n",
        "    plt.ylabel('Accuracy')\n",
        "    plt.title('Probe Performance Across GPT-2 Layers')\n",
        "    plt.legend()\n",
        "    plt.grid(True, alpha=0.3)\n",
        "    plt.show()"
      ],
      "execution_count": 53,
      "outputs": []
    },
    {
      "cell_type": "code",
      "source": [
        "def main():\n",
        "\n",
        "    print(f\"\\nDataset overview:\")\n",
        "    print(f\"Total samples: {len(df)}\")\n",
        "    print(f\"Positive samples: {df['label'].sum()}\")\n",
        "    print(f\"Negative samples: {(~df['label']).sum()}\")\n",
        "    print(f\"Categories: {df['category'].value_counts().to_dict()}\")\n",
        "\n",
        "    all_commands = df['command'].to_list()\n",
        "    labels = df['label'].to_numpy() # Use to_numpy() for Polars Series\n",
        "\n",
        "    print(f\"\\nExtracting activations from multiple layers...\")\n",
        "    layers_to_analyze = [0, 3, 6, 9, 11]  # GPT-2 has 12 layers (0-11)\n",
        "    all_layer_activations = extract_multiple_layers(all_commands, layers_to_analyze)\n",
        "\n",
        "    layer_results = {}\n",
        "\n",
        "    print(f\"\\nTraining probes for each layer...\")\n",
        "    for layer_name, activations in all_layer_activations.items():\n",
        "        print(f\"\\nAnalyzing {layer_name}...\")\n",
        "        results, train_df, test_df = train_and_evaluate_probe_no_leakage(\n",
        "            activations, labels, all_commands\n",
        "        )\n",
        "\n",
        "        layer_results[layer_name] = results\n",
        "\n",
        "        print(f\"  Train accuracy: {results['train_accuracy']:.3f}\")\n",
        "        print(f\"  Test accuracy: {results['test_accuracy']:.3f}\")\n",
        "        print(f\"  Train size: {results['n_train']}, Test size: {results['n_test']}\")\n",
        "\n",
        "    baseline_acc = keyword_baseline(pd.DataFrame({'command': all_commands, 'label': labels}))\n",
        "    print(f\"\\nKeyword baseline accuracy: {baseline_acc:.3f}\")\n",
        "\n",
        "    #best performing layer\n",
        "    best_layer = max(layer_results.keys(), key=lambda x: layer_results[x]['test_accuracy'])\n",
        "    print(f\"\\nBest performing layer: {best_layer}\")\n",
        "\n",
        "    best_results = layer_results[best_layer]\n",
        "    best_activations = all_layer_activations[best_layer]\n",
        "\n",
        "    results, train_df, test_df = train_and_evaluate_probe_no_leakage(\n",
        "        best_activations, labels, all_commands\n",
        "    )\n",
        "\n",
        "    df_with_categories = df.clone().with_row_index('index') #index to polars df\n",
        "    test_df_with_cats = test_df.merge(\n",
        "        df_with_categories[['index', 'category']].to_pandas(),\n",
        "        on='index',\n",
        "        how='left'\n",
        "    ).drop(columns=['index'])\n",
        "\n",
        "\n",
        "    print(f\"\\nCategory-wise analysis for {best_layer}:\")\n",
        "    # Ensure the lengths match before assigning\n",
        "    if len(test_df_with_cats) == len(results['predictions']):\n",
        "        category_results = analyze_by_category(test_df_with_cats, results)\n",
        "        print(category_results)\n",
        "    else:\n",
        "        print(\"Error: Length mismatch between test_df_with_cats and results arrays.\")\n",
        "        print(f\"Length of test_df_with_cats: {len(test_df_with_cats)}\")\n",
        "        print(f\"Length of results['predictions']: {len(results['predictions'])}\")\n",
        "\n",
        "    print(f\"\\nConfusion Matrix for {best_layer}:\")\n",
        "    cm = results['confusion_matrix']\n",
        "    print(f\"True Negatives: {cm[0,0]}, False Positives: {cm[0,1]}\")\n",
        "    print(f\"False Negatives: {cm[1,0]}, True Positives: {cm[1,1]}\")\n",
        "\n",
        "\n",
        "    print(f\"\\nClassification Report for {best_layer}:\")\n",
        "    report = results['classification_report']\n",
        "    # Use 'True' as key for classification report for positive class\n",
        "    print(f\"Precision (Positive): {report['True']['precision']:.3f}\")\n",
        "    print(f\"Recall (Positive): {report['True']['recall']:.3f}\")\n",
        "    print(f\"F1-Score (Positive): {report['True']['f1-score']:.3f}\")\n",
        "\n",
        "    # Plot results\n",
        "    plot_results(layer_results)\n",
        "\n",
        "\n",
        "    print(f\"\\nError Analysis - Misclassified Examples:\")\n",
        "    test_df_with_cats['correct'] = (test_df_with_cats['label'] == results['predictions'])\n",
        "    errors = test_df_with_cats[~test_df_with_cats['correct']].head(10)\n",
        "\n",
        "    for _, row in errors.iterrows():\n",
        "        print(f\"Command: '{row['command']}'\")\n",
        "        print(f\"  True label: {row['label']}, Predicted: {results['predictions'][_]}, Category: {row.get('category', 'Unknown')}\")\n",
        "        print()\n",
        "\n",
        "    print(\"\\n=== Additional Analysis for Report ===\")\n",
        "\n",
        "    best_layer_results = layer_results[best_layer]\n",
        "    y_test = best_layer_results['true_labels']\n",
        "    y_proba = best_layer_results['probabilities']\n",
        "    y_pred = best_layer_results['predictions']\n",
        "    # df_results is not directly available, we will recreate necessary parts from test_df_with_cats\n",
        "    df_results = pd.DataFrame({\n",
        "        'true': y_test,\n",
        "        'pred': y_pred,\n",
        "        'category': test_df_with_cats['category'] # Get categories from the merged df\n",
        "    })\n",
        "\n",
        "\n",
        "    roc_auc = roc_auc_score(y_test, y_proba)\n",
        "    pr_auc = average_precision_score(y_test, y_proba)\n",
        "    print(f\"ROC-AUC: {roc_auc:.3f}\")\n",
        "    print(f\"PR-AUC (Average Precision): {pr_auc:.3f}\")\n",
        "\n",
        "\n",
        "    print(\"\\nPer-layer F1 scores:\")\n",
        "    for layer, res in layer_results.items():\n",
        "        f1 = f1_score(res['true_labels'], res['predictions'])\n",
        "        print(f\"  {layer}: {f1:.3f}\")\n",
        "\n",
        "\n",
        "    #missclassification\n",
        "    misclassified = df_results[df_results[\"true\"] != df_results[\"pred\"]]\n",
        "    mis_summary = misclassified[\"category\"].value_counts()\n",
        "    print(\"\\nMisclassification counts by category:\")\n",
        "    print(mis_summary)\n",
        "\n",
        "\n",
        "    avg_pos = y_proba[y_test == 1].mean()\n",
        "    avg_neg = y_proba[y_test == 0].mean()\n",
        "    print(\"\\nCalibration check:\")\n",
        "    print(f\"  Avg predicted probability (positives): {avg_pos:.3f}\")\n",
        "    print(f\"  Avg predicted probability (negatives): {avg_neg:.3f}\")\n",
        "\n",
        "    # confusion matrix as df\n",
        "    from sklearn.metrics import confusion_matrix\n",
        "    cm = confusion_matrix(y_test, y_pred)\n",
        "    cm_df = pd.DataFrame(cm,\n",
        "                         index=[\"True Neg\",\"True Pos\"],\n",
        "                         columns=[\"Pred Neg\",\"Pred Pos\"])\n",
        "    print(\"\\nConfusion Matrix (as table):\")\n",
        "    print(cm_df)\n",
        "\n",
        "\n",
        "    return {\n",
        "        'layer_results': layer_results,\n",
        "        'best_layer': best_layer,\n",
        "        'baseline_accuracy': baseline_acc,\n",
        "        'category_analysis': category_results,\n",
        "        'dataset': df,\n",
        "        'additional_analysis': {\n",
        "            'roc_auc': roc_auc,\n",
        "            'pr_auc': pr_auc,\n",
        "            'per_layer_f1': {layer: f1_score(res['true_labels'], res['predictions']) for layer, res in layer_results.items()},\n",
        "            'misclassification_summary': mis_summary.to_dict(),\n",
        "            'calibration_check': {'avg_pos_prob': avg_pos, 'avg_neg_prob': avg_neg},\n",
        "            'confusion_matrix_df': cm_df.to_dict()\n",
        "        }\n",
        "    }\n",
        "\n",
        "if __name__ == \"__main__\":\n",
        "    results = main()"
      ],
      "metadata": {
        "colab": {
          "base_uri": "https://localhost:8080/",
          "height": 1000
        },
        "id": "EEBrNBiSsHuA",
        "outputId": "6ce55268-b73b-44bf-fd77-f0653de1973c"
      },
      "execution_count": 57,
      "outputs": [
        {
          "output_type": "stream",
          "name": "stdout",
          "text": [
            "\n",
            "Dataset overview:\n",
            "Total samples: 2082\n",
            "Positive samples: 1082\n",
            "Negative samples: 1000\n",
            "Categories: {'category': shape: (13,)\n",
            "Series: 'category' [str]\n",
            "[\n",
            "\t\"kernel_exploit\"\n",
            "\t\"false_positive\"\n",
            "\t\"normal_sudo\"\n",
            "\t\"suid_abuse\"\n",
            "\t\"library_hijack\"\n",
            "\t…\n",
            "\t\"false_negative\"\n",
            "\t\"direct_pe\"\n",
            "\t\"capability_abuse\"\n",
            "\t\"legitimate_admin\"\n",
            "\t\"system_monitoring\"\n",
            "], 'count': shape: (13,)\n",
            "Series: 'count' [u32]\n",
            "[\n",
            "\t125\n",
            "\t125\n",
            "\t250\n",
            "\t166\n",
            "\t125\n",
            "\t…\n",
            "\t125\n",
            "\t166\n",
            "\t125\n",
            "\t250\n",
            "\t125\n",
            "]}\n",
            "\n",
            "Extracting activations from multiple layers...\n",
            "Extracting activations from layer 0...\n",
            "Extracting activations from layer 3...\n",
            "Extracting activations from layer 6...\n",
            "Extracting activations from layer 9...\n",
            "Extracting activations from layer 11...\n",
            "\n",
            "Training probes for each layer...\n",
            "\n",
            "Analyzing layer_0...\n",
            "  Train accuracy: 0.993\n",
            "  Test accuracy: 0.939\n",
            "  Train size: 1487, Test size: 595\n",
            "\n",
            "Analyzing layer_3...\n",
            "  Train accuracy: 1.000\n",
            "  Test accuracy: 0.955\n",
            "  Train size: 1487, Test size: 595\n",
            "\n",
            "Analyzing layer_6...\n",
            "  Train accuracy: 1.000\n",
            "  Test accuracy: 0.948\n",
            "  Train size: 1487, Test size: 595\n",
            "\n",
            "Analyzing layer_9...\n",
            "  Train accuracy: 1.000\n",
            "  Test accuracy: 0.958\n",
            "  Train size: 1487, Test size: 595\n",
            "\n",
            "Analyzing layer_11...\n",
            "  Train accuracy: 1.000\n",
            "  Test accuracy: 0.943\n",
            "  Train size: 1487, Test size: 595\n",
            "\n",
            "Keyword baseline accuracy: 0.608\n",
            "\n",
            "Best performing layer: layer_9\n",
            "\n",
            "Category-wise analysis for layer_9:\n",
            "                   Accuracy  Count  Avg_Probability\n",
            "category                                           \n",
            "capability_abuse      1.000     30            1.000\n",
            "container_escape      1.000     20            0.998\n",
            "direct_pe             0.667     45            0.752\n",
            "false_negative        1.000     47            0.980\n",
            "false_positive        1.000     18            0.124\n",
            "kernel_exploit        1.000     19            0.999\n",
            "legitimate_admin      0.906     85            0.099\n",
            "library_hijack        0.978     46            0.985\n",
            "normal_sudo           1.000     76            0.005\n",
            "permission_check      1.000     74            0.046\n",
            "service_abuse         1.000     44            0.999\n",
            "suid_abuse            1.000     33            1.000\n",
            "system_monitoring     0.983     58            0.137\n",
            "\n",
            "Confusion Matrix for layer_9:\n",
            "True Negatives: 302, False Positives: 9\n",
            "False Negatives: 16, True Positives: 268\n",
            "\n",
            "Classification Report for layer_9:\n",
            "Precision (Positive): 0.968\n",
            "Recall (Positive): 0.944\n",
            "F1-Score (Positive): 0.955\n"
          ]
        },
        {
          "output_type": "display_data",
          "data": {
            "text/plain": [
              "<Figure size 1000x600 with 1 Axes>"
            ],
            "image/png": "[encoded data removed]"
          },
          "metadata": {}
        },
        {
          "output_type": "stream",
          "name": "stdout",
          "text": [
            "\n",
            "Error Analysis - Misclassified Examples:\n",
            "Command: 'sudo -i'\n",
            "  True label: True, Predicted: False, Category: direct_pe\n",
            "\n",
            "Command: 'su - elasticsearch'\n",
            "  True label: False, Predicted: True, Category: legitimate_admin\n",
            "\n",
            "Command: 'su root'\n",
            "  True label: True, Predicted: False, Category: direct_pe\n",
            "\n",
            "Command: 'su - elasticsearch'\n",
            "  True label: False, Predicted: True, Category: legitimate_admin\n",
            "\n",
            "Command: 'su root'\n",
            "  True label: True, Predicted: False, Category: direct_pe\n",
            "\n",
            "Command: 'su - elasticsearch'\n",
            "  True label: False, Predicted: True, Category: legitimate_admin\n",
            "\n",
            "Command: 'sudo -i'\n",
            "  True label: True, Predicted: False, Category: direct_pe\n",
            "\n",
            "Command: 'bash -c 'sudo -i''\n",
            "  True label: True, Predicted: False, Category: direct_pe\n",
            "\n",
            "Command: 'su root'\n",
            "  True label: True, Predicted: False, Category: direct_pe\n",
            "\n",
            "Command: 'su root'\n",
            "  True label: True, Predicted: False, Category: direct_pe\n",
            "\n",
            "\n",
            "=== Additional Analysis for Report ===\n",
            "ROC-AUC: 0.995\n",
            "PR-AUC (Average Precision): 0.995\n",
            "\n",
            "Per-layer F1 scores:\n",
            "  layer_0: 0.939\n",
            "  layer_3: 0.952\n",
            "  layer_6: 0.946\n",
            "  layer_9: 0.955\n",
            "  layer_11: 0.941\n",
            "\n",
            "Misclassification counts by category:\n",
            "category\n",
            "direct_pe            15\n",
            "legitimate_admin      8\n",
            "library_hijack        1\n",
            "system_monitoring     1\n",
            "Name: count, dtype: int64\n",
            "\n",
            "Calibration check:\n",
            "  Avg predicted probability (positives): 0.955\n",
            "  Avg predicted probability (negatives): 0.072\n",
            "\n",
            "Confusion Matrix (as table):\n",
            "          Pred Neg  Pred Pos\n",
            "True Neg       302         9\n",
            "True Pos        16       268\n"
          ]
        }
      ]
    },
    {
      "cell_type": "code",
      "source": [
        "if 'results' in locals() and 'best_layer' in results and 'layer_results' in results:\n",
        "    best_layer = results['best_layer']\n",
        "\n",
        "    all_commands = results['dataset']['command'].to_list()\n",
        "    labels = results['dataset']['label'].to_numpy()\n",
        "    all_layer_activations = extract_multiple_layers(all_commands, [int(best_layer.split('_')[1])]) # Extract only for the best layer\n",
        "\n",
        "    best_layer_activations = all_layer_activations[best_layer]\n",
        "\n",
        "\n",
        "\n",
        "    temp_results, train_df_with_commands, test_df_with_commands = train_and_evaluate_probe_no_leakage(\n",
        "        best_layer_activations, # Use activations of the best layer\n",
        "        labels, # Use original labels\n",
        "        all_commands # Use original commands\n",
        "    )\n",
        "\n",
        "\n",
        "    train_texts = train_df_with_commands['command'].to_list()\n",
        "    test_texts = test_df_with_commands['command'].to_list()\n",
        "\n",
        "\n",
        "    overlap = set(train_texts).intersection(set(test_texts))\n",
        "    print(f\"Number of overlapping samples: {len(overlap)}\")\n",
        "    if len(overlap) > 0:\n",
        "        print(\"Examples of overlaps:\", list(overlap)[:10])\n",
        "else:\n",
        "    print(\"Please run the main() function first to generate the results.\")"
      ],
      "metadata": {
        "colab": {
          "base_uri": "https://localhost:8080/"
        },
        "id": "gsg-Qoob8-Ky",
        "outputId": "1e319d6d-b08c-4353-a8fa-876832b65290"
      },
      "execution_count": 61,
      "outputs": [
        {
          "output_type": "stream",
          "name": "stdout",
          "text": [
            "Extracting activations from layer 9...\n",
            "Number of overlapping samples: 0\n"
          ]
        }
      ]
    }
  ]
}